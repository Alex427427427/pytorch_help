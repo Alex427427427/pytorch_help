{
 "cells": [
  {
   "cell_type": "markdown",
   "metadata": {},
   "source": [
    "![alt text](https://upload.wikimedia.org/wikipedia/commons/thumb/9/96/Pytorch_logo.png/800px-Pytorch_logo.png)"
   ]
  },
  {
   "cell_type": "markdown",
   "metadata": {},
   "source": [
    "<h2>Introduction</h2>\n",
    "As we've seen we can use numpy to create single layer neural networks by calculating the gradients by hand and hard coding them and training them via GD. But what if we want to create larger and more complicated networks? What if we want to use complicated and fancy loss functions or use huge datasets and train with more complicated training regimes?! And what about training on GPUs.......<br>\n",
    "That's a lot to try and work out EVERY time we want to try something new!! Lucky for us there are a number of Deep learning frameworks that can do much of the heavy lifting for us!<br>\n",
    "For this unit we will be using Pytorch, a hugely powerful and widely used Deep Learning framework that lets us do all of the above and MORE"
   ]
  },
  {
   "cell_type": "markdown",
   "metadata": {},
   "source": [
    "<h3> Importing the required libraries </h3>\n",
    "Pytorch has two main modules that we'll be using, torch and torchvision<br>\n",
    "torch contains most of the Deep Learning functionalities while torchvision contains many computer vision functions designed to work in hand with torch"
   ]
  },
  {
   "cell_type": "code",
   "execution_count": 1,
   "metadata": {},
   "outputs": [],
   "source": [
    "import torch\n",
    "import torchvision\n",
    "import torch.nn as nn\n",
    "import numpy as np\n",
    "import matplotlib.pyplot as plt"
   ]
  },
  {
   "cell_type": "markdown",
   "metadata": {},
   "source": [
    "<h3> The Pytorch Tensor </h3>\n",
    "As we've already explored the \"Tensor\" is a useful concept and is very useful in Machine Learning, however you probably noticed in Numpy that our \"Tensors\" are called \"Arrays\", but now we are in Pytorch this is no more!!<br>\n",
    "Let's do a recap of Numpy arrays and how similar they are to Pytorch tensors."
   ]
  },
  {
   "cell_type": "code",
   "execution_count": 2,
   "metadata": {},
   "outputs": [],
   "source": [
    "# Create some \"Matrices\" as lists of lists  \n",
    "\n",
    "# 3x3\n",
    "w = [[1, 1, 1],\n",
    "     [1.5, 1.5, 1.5],\n",
    "     [2, 2, 2]]\n",
    "\n",
    "# 3x1\n",
    "x = [[6], [7], [8]]\n",
    "# 3x1\n",
    "b = [[1], [1], [1]]\n",
    "\n",
    "# Variable to store output\n",
    "# 3x1\n",
    "y = [[0], [0], [0]]"
   ]
  },
  {
   "cell_type": "markdown",
   "metadata": {},
   "source": [
    "As we've seen before"
   ]
  },
  {
   "cell_type": "code",
   "execution_count": 3,
   "metadata": {},
   "outputs": [
    {
     "name": "stdout",
     "output_type": "stream",
     "text": [
      "Output:\n",
      " [[22. ]\n",
      " [32.5]\n",
      " [43. ]]\n",
      "Output shape:\n",
      " (3, 1)\n"
     ]
    }
   ],
   "source": [
    "# We can transform our list of lists into a \"numpy array\" by using the function \"array\"\n",
    "w_np = np.array(w)\n",
    "\n",
    "x_np = np.array(x)\n",
    "\n",
    "# lets use the function \"ones\" to create an array of ones!\n",
    "b_np = np.ones((3, 1))\n",
    "\n",
    "# Lets now compute Wx + b using these numpy variables!\n",
    "output = np.matmul(w_np, x_np) + b_np\n",
    "\n",
    "#print out the result\n",
    "print(\"Output:\\n\", output)\n",
    "print(\"Output shape:\\n\", output.shape)"
   ]
  },
  {
   "cell_type": "markdown",
   "metadata": {},
   "source": [
    "Now in Pytorch!"
   ]
  },
  {
   "cell_type": "code",
   "execution_count": 4,
   "metadata": {},
   "outputs": [
    {
     "name": "stdout",
     "output_type": "stream",
     "text": [
      "Output:\n",
      " tensor([[22.0000],\n",
      "        [32.5000],\n",
      "        [43.0000]])\n",
      "Output shape:\n",
      " torch.Size([3, 1])\n"
     ]
    }
   ],
   "source": [
    "# We can transform our list of lists into a \"torch tensor\" by using the function \"FloatTensor\"\n",
    "# Note: here we've specified the datatype of the tensor, a 32bit \"float\" you can also just use the function \"tensor\"\n",
    "# But this will inherit the datatype of the array given, to ensure the data-types are the same\n",
    "# (and we can perform the wanted operations) we use \"FloatTensor\"\n",
    "\n",
    "w_torch = torch.FloatTensor(w)\n",
    "\n",
    "x_torch = torch.FloatTensor(x)\n",
    "\n",
    "# lets use the function \"ones\" to create an array of ones!\n",
    "b_torch = torch.ones(3, 1)\n",
    "\n",
    "# Lets now compute Wx + b using these numpy variables!\n",
    "output = torch.matmul(w_torch, x_torch) + b_torch\n",
    "\n",
    "# print out the result\n",
    "print(\"Output:\\n\", output)\n",
    "print(\"Output shape:\\n\", output.shape)"
   ]
  },
  {
   "cell_type": "markdown",
   "metadata": {},
   "source": [
    "Wow! Numpy and Pytorch are remarkably similar, though this is no coincidence! The creators of Pytorch did this intentionally to make it easy to transfer existing skills in Numpy (a Python library that everyone uses - has its origins back in 1995!!) to Pytorch. To aid this transfer there are even functions that can transfer Pytorch tensors to Numpy arrays and back!"
   ]
  },
  {
   "cell_type": "code",
   "execution_count": 5,
   "metadata": {},
   "outputs": [
    {
     "name": "stdout",
     "output_type": "stream",
     "text": [
      "Numpy array:\n",
      " [[0.49596761 0.24543713 0.53026725 0.9066079 ]\n",
      " [0.21531284 0.86057382 0.85169854 0.43302563]\n",
      " [0.70812252 0.33872991 0.45385971 0.02661681]]\n",
      "Pytorch tensor:\n",
      " tensor([[0.4960, 0.2454, 0.5303, 0.9066],\n",
      "        [0.2153, 0.8606, 0.8517, 0.4330],\n",
      "        [0.7081, 0.3387, 0.4539, 0.0266]])\n",
      "Numpy array:\n",
      " [[0.49596763 0.24543713 0.53026724 0.9066079 ]\n",
      " [0.21531284 0.8605738  0.8516985  0.43302563]\n",
      " [0.70812255 0.33872992 0.45385972 0.02661681]]\n"
     ]
    }
   ],
   "source": [
    "# Create a random Numpy array\n",
    "np_array = np.random.random((3, 4))\n",
    "print(\"Numpy array:\\n\", np_array)\n",
    "\n",
    "# Convert to Pytorch tensor\n",
    "torch_tensor = torch.FloatTensor(np_array)\n",
    "print(\"Pytorch tensor:\\n\", torch_tensor)\n",
    "\n",
    "# Convert back to a Numpy array!\n",
    "np_array2 = torch_tensor.numpy()\n",
    "print(\"Numpy array:\\n\", np_array2)"
   ]
  },
  {
   "cell_type": "markdown",
   "metadata": {},
   "source": [
    "<h>"
   ]
  },
  {
   "cell_type": "markdown",
   "metadata": {},
   "source": [
    "<h2>On to Pytorch!</h2>\n",
    "Let's further explore Pytorch and it's similarities to Numpy and then see what new functionalities it brings to the table!!"
   ]
  },
  {
   "cell_type": "markdown",
   "metadata": {},
   "source": [
    "<h3> Basic Element-wise Operations </h3>\n",
    "Let's quickly go back over some basics using Pytorch"
   ]
  },
  {
   "cell_type": "code",
   "execution_count": 6,
   "metadata": {},
   "outputs": [
    {
     "name": "stdout",
     "output_type": "stream",
     "text": [
      "Our 1D Tensor:\n",
      " tensor([[0.0279, 0.2475, 0.8808, 0.6615, 0.3162],\n",
      "        [0.0796, 0.6932, 0.1962, 0.8364, 0.4064],\n",
      "        [0.0799, 0.6796, 0.9234, 0.9017, 0.2205],\n",
      "        [0.8121, 0.3064, 0.5124, 0.0511, 0.5143]])\n",
      "\n",
      "Scalar Multiplication:\n",
      " tensor([[0.2790, 2.4747, 8.8085, 6.6147, 3.1622],\n",
      "        [0.7955, 6.9319, 1.9622, 8.3636, 4.0639],\n",
      "        [0.7987, 6.7962, 9.2336, 9.0170, 2.2053],\n",
      "        [8.1206, 3.0644, 5.1239, 0.5110, 5.1433]])\n",
      "Addition and Square:\n",
      " tensor([[1.0566, 1.5562, 3.5376, 2.7605, 1.7324],\n",
      "        [1.1654, 2.8669, 1.4309, 3.3722, 1.9779],\n",
      "        [1.1661, 2.8211, 3.6993, 3.6164, 1.4897],\n",
      "        [3.2836, 1.7068, 2.2873, 1.1048, 2.2932]])\n",
      "Addition:\n",
      " tensor([[0.0558, 0.4949, 1.7617, 1.3229, 0.6324],\n",
      "        [0.1591, 1.3864, 0.3924, 1.6727, 0.8128],\n",
      "        [0.1597, 1.3592, 1.8467, 1.8034, 0.4411],\n",
      "        [1.6241, 0.6129, 1.0248, 0.1022, 1.0287]])\n",
      "Addition and division:\n",
      " tensor([[0.0271, 0.1984, 0.4683, 0.3981, 0.2402],\n",
      "        [0.0737, 0.4094, 0.1640, 0.4554, 0.2890],\n",
      "        [0.0740, 0.4046, 0.4801, 0.4742, 0.1807],\n",
      "        [0.4481, 0.2346, 0.3388, 0.0486, 0.3396]])\n",
      "\n",
      "Power and square root:\n",
      " tensor([[0.0279, 0.2475, 0.8808, 0.6615, 0.3162],\n",
      "        [0.0796, 0.6932, 0.1962, 0.8364, 0.4064],\n",
      "        [0.0799, 0.6796, 0.9234, 0.9017, 0.2205],\n",
      "        [0.8121, 0.3064, 0.5124, 0.0511, 0.5143]])\n",
      "\n",
      "Y -\n",
      " Min:0.03\n",
      " Max:0.92\n",
      " Standard Deviation:0.31\n",
      " Sum:9.35\n"
     ]
    }
   ],
   "source": [
    "# lets create a 2D Tensor using torch.rand\n",
    "y = torch.rand(4, 5)\n",
    "# this will create a \"Vector\" of numbers from 0 to 1\n",
    "print(\"Our 1D Tensor:\\n\",y)\n",
    "\n",
    "# We can perform normal python scalar arithmetic on Torch tensors\n",
    "print(\"\\nScalar Multiplication:\\n\",y * 10)\n",
    "print(\"Addition and Square:\\n\",(y + 1)**2)\n",
    "print(\"Addition:\\n\",y + y)\n",
    "print(\"Addition and division:\\n\",y / (y + 1))\n",
    "\n",
    "# We can use a combination of Torch functions and normal python arithmetic\n",
    "print(\"\\nPower and square root:\\n\",torch.sqrt(y**2))\n",
    "\n",
    "# Torch tensors are objects and have functions\n",
    "print(\"\\nY -\\n Min:%.2f\\n Max:%.2f\\n Standard Deviation:%.2f\\n Sum:%.2f\" %(y.min(), y.max(), y.std(), y.sum()))"
   ]
  },
  {
   "cell_type": "markdown",
   "metadata": {},
   "source": [
    "<h3>Tensor Opperations</h3>"
   ]
  },
  {
   "cell_type": "code",
   "execution_count": 8,
   "metadata": {},
   "outputs": [
    {
     "name": "stdout",
     "output_type": "stream",
     "text": [
      "Addition:\n",
      " tensor([[[1.5528, 0.8813, 0.8349],\n",
      "         [0.8626, 0.7580, 0.4280],\n",
      "         [0.1751, 1.5449, 0.8960]],\n",
      "\n",
      "        [[0.9400, 1.6999, 1.1601],\n",
      "         [0.2752, 0.9370, 1.1002],\n",
      "         [0.2813, 1.5118, 1.6220]],\n",
      "\n",
      "        [[1.5909, 0.7750, 1.0547],\n",
      "         [0.3752, 1.6877, 0.5364],\n",
      "         [1.2145, 0.8747, 1.6074]]])\n",
      "Batch Multiplication:\n",
      " tensor([[[0.7892, 0.8372, 0.8042],\n",
      "         [0.7400, 0.4390, 0.4359],\n",
      "         [0.2808, 0.0735, 0.0973]],\n",
      "\n",
      "        [[0.4184, 1.1709, 1.3791],\n",
      "         [0.2675, 0.5299, 0.9860],\n",
      "         [0.3202, 0.7326, 1.1519]],\n",
      "\n",
      "        [[0.9297, 0.8376, 1.1171],\n",
      "         [0.3298, 0.8202, 0.5151],\n",
      "         [0.8353, 0.8971, 0.9384]]])\n"
     ]
    }
   ],
   "source": [
    "# Create two 3D Tensors\n",
    "tensor_1 = torch.rand(3, 3, 3)\n",
    "tensor_2 = torch.rand(3, 3, 3)\n",
    "\n",
    "# Add the 2 Tensors\n",
    "print(\"Addition:\\n\",tensor_1 + tensor_2)\n",
    "\n",
    "# We cannot perform a normal \"matrix\" multiplication on a 3D tensor\n",
    "# But we can treat the 3D tensor as a \"batch\" (like a stack) of 2D tensors\n",
    "# And perform normal matrix multiplication independantly on each pair of 2D matricies\n",
    "print(\"Batch Multiplication:\\n\" , torch.bmm(tensor_1, tensor_2))"
   ]
  },
  {
   "cell_type": "code",
   "execution_count": 9,
   "metadata": {},
   "outputs": [
    {
     "name": "stdout",
     "output_type": "stream",
     "text": [
      "\n",
      "The origional Tensor is is:\n",
      " tensor([[[0.2954, 0.3010, 0.3119, 0.4777, 0.2455],\n",
      "         [0.7413, 0.8090, 0.9334, 0.9765, 0.9504],\n",
      "         [0.8127, 0.5659, 0.0872, 0.9755, 0.7456],\n",
      "         [0.0859, 0.0052, 0.1919, 0.7268, 0.3153]],\n",
      "\n",
      "        [[0.3550, 0.9878, 0.7236, 0.8351, 0.0876],\n",
      "         [0.5419, 0.5628, 0.8544, 0.4434, 0.9658],\n",
      "         [0.6265, 0.1578, 0.7761, 0.9699, 0.5498],\n",
      "         [0.5636, 0.1473, 0.3274, 0.8919, 0.5130]]])\n",
      "With shape:\n",
      " torch.Size([2, 4, 5])\n",
      "The Re-arranged is:\n",
      " tensor([[[0.2954, 0.3550],\n",
      "         [0.7413, 0.5419],\n",
      "         [0.8127, 0.6265],\n",
      "         [0.0859, 0.5636]],\n",
      "\n",
      "        [[0.3010, 0.9878],\n",
      "         [0.8090, 0.5628],\n",
      "         [0.5659, 0.1578],\n",
      "         [0.0052, 0.1473]],\n",
      "\n",
      "        [[0.3119, 0.7236],\n",
      "         [0.9334, 0.8544],\n",
      "         [0.0872, 0.7761],\n",
      "         [0.1919, 0.3274]],\n",
      "\n",
      "        [[0.4777, 0.8351],\n",
      "         [0.9765, 0.4434],\n",
      "         [0.9755, 0.9699],\n",
      "         [0.7268, 0.8919]],\n",
      "\n",
      "        [[0.2455, 0.0876],\n",
      "         [0.9504, 0.9658],\n",
      "         [0.7456, 0.5498],\n",
      "         [0.3153, 0.5130]]])\n",
      "With shape:\n",
      " torch.Size([5, 4, 2])\n"
     ]
    }
   ],
   "source": [
    "# lets create a more interesting tensor\n",
    "tensor_3 = torch.rand(2, 4, 5)\n",
    "# We can swap the Tensor dimensions\n",
    "print(\"\\nThe origional Tensor is is:\\n\", tensor_3)\n",
    "print(\"With shape:\\n\", tensor_3.shape)\n",
    "\n",
    "# tranpose will swap the dimensions it is given\n",
    "print(\"The Re-arranged is:\\n\", tensor_3.transpose(0, 2))\n",
    "print(\"With shape:\\n\", tensor_3.transpose(0, 2).shape)"
   ]
  },
  {
   "cell_type": "markdown",
   "metadata": {},
   "source": [
    "<h3> Indexing </h3>\n",
    "Indexing in Pytorch works the same as it does in Numpy, see if you can predict what values will be return by the indexing"
   ]
  },
  {
   "cell_type": "code",
   "execution_count": 10,
   "metadata": {},
   "outputs": [
    {
     "name": "stdout",
     "output_type": "stream",
     "text": [
      "Our Tensor:\n",
      " tensor([[[[0.7919, 0.7966, 0.2593, 0.5586]],\n",
      "\n",
      "         [[0.6005, 0.6576, 0.4933, 0.2382]],\n",
      "\n",
      "         [[0.9007, 0.0279, 0.7475, 0.2366]]],\n",
      "\n",
      "\n",
      "        [[[0.9281, 0.2452, 0.4739, 0.6216]],\n",
      "\n",
      "         [[0.8508, 0.6277, 0.0988, 0.8112]],\n",
      "\n",
      "         [[0.1614, 0.1208, 0.2720, 0.5593]]]])\n",
      "\n",
      "The last element of dim0:\n",
      " tensor([[[0.9281, 0.2452, 0.4739, 0.6216]],\n",
      "\n",
      "        [[0.8508, 0.6277, 0.0988, 0.8112]],\n",
      "\n",
      "        [[0.1614, 0.1208, 0.2720, 0.5593]]])\n",
      "\n",
      "Indexed elements:\n",
      " tensor([[0.6005, 0.6576, 0.4933, 0.2382]])\n",
      "\n",
      "Indexed elements:\n",
      " tensor([0.4933, 0.0988])\n"
     ]
    }
   ],
   "source": [
    "# Create a 4D Tensor\n",
    "tensor = torch.rand(2, 3, 1, 4)\n",
    "print(\"Our Tensor:\\n\",tensor)\n",
    "\n",
    "# Select the last element of dim0\n",
    "print(\"\\nThe last element of dim0:\\n\", tensor[-1])\n",
    "\n",
    "# 1st element of dim0\n",
    "# 2nd element of dim1\n",
    "print(\"\\nIndexed elements:\\n\", tensor[0, 1])\n",
    "\n",
    "# Select all elements of dim0\n",
    "# The 2nd element of dim1\n",
    "# The 1st element of dim2\n",
    "# The 3rd element of dim3\n",
    "print(\"\\nIndexed elements:\\n\", tensor[:, 1, 0, 2])"
   ]
  },
  {
   "cell_type": "markdown",
   "metadata": {},
   "source": [
    "<h3> Describing Tensors </h3> <br>\n",
    "Lets see how we can view the characteristics of our Tensors"
   ]
  },
  {
   "cell_type": "code",
   "execution_count": 11,
   "metadata": {},
   "outputs": [
    {
     "name": "stdout",
     "output_type": "stream",
     "text": [
      "The Tensor's shape is: torch.Size([3, 5, 3, 2])\n",
      "The Tensor's shape using size() is: torch.Size([3, 5, 3, 2])\n",
      "There are 90 elements in total:\n",
      "There are 4 Dimensions\n"
     ]
    }
   ],
   "source": [
    "# Lets create a large 4D Tensor\n",
    "tensor = torch.rand(3, 5, 3, 2)\n",
    "\n",
    "# View the Number of elements in every dimension\n",
    "print(\"The Tensor's shape is:\", tensor.shape)\n",
    "\n",
    "# In Pytorch shape and size() do the same thing!\n",
    "print(\"The Tensor's shape using size() is:\", tensor.size())\n",
    "\n",
    "# View the number of elements in total\n",
    "print(\"There are %d elements in total:\" % tensor.numel())\n",
    "\n",
    "# View the number of Dimensions\n",
    "print(\"There are %d Dimensions\" %(tensor.ndim))"
   ]
  },
  {
   "cell_type": "markdown",
   "metadata": {},
   "source": [
    "<h3> Reshaping </h3> <br>\n",
    "We can change a Tensor to one of the same size (same number of elements) but a different shape by using functions in a similar fashion to Numpy but with different functions!"
   ]
  },
  {
   "cell_type": "code",
   "execution_count": 12,
   "metadata": {},
   "outputs": [
    {
     "name": "stdout",
     "output_type": "stream",
     "text": [
      "Reshape to 3x30:\n",
      " tensor([[0.5618, 0.3861, 0.8515, 0.1183, 0.9183, 0.7349, 0.0982, 0.0455, 0.0555,\n",
      "         0.0807, 0.6446, 0.5581, 0.1978, 0.4457, 0.9093, 0.5321, 0.5448, 0.5640,\n",
      "         0.5490, 0.7115, 0.6660, 0.0944, 0.4035, 0.2423, 0.3638, 0.3016, 0.5366,\n",
      "         0.2898, 0.9129, 0.4814],\n",
      "        [0.2521, 0.6466, 0.3967, 0.1423, 0.8526, 0.1769, 0.4305, 0.4506, 0.9379,\n",
      "         0.7638, 0.2633, 0.0910, 0.9996, 0.9919, 0.0232, 0.0901, 0.6714, 0.0820,\n",
      "         0.5649, 0.7994, 0.6237, 0.6733, 0.0570, 0.2776, 0.9181, 0.5463, 0.3901,\n",
      "         0.3984, 0.7903, 0.5502],\n",
      "        [0.3539, 0.1279, 0.7333, 0.0203, 0.8996, 0.1509, 0.7543, 0.1862, 0.2521,\n",
      "         0.5962, 0.6618, 0.6019, 0.5511, 0.4661, 0.1598, 0.9853, 0.0983, 0.9782,\n",
      "         0.0432, 0.9072, 0.9164, 0.2276, 0.8789, 0.1266, 0.5264, 0.9523, 0.8668,\n",
      "         0.1303, 0.8322, 0.8772]])\n",
      "Flatten to a 1D Tensor:\n",
      " tensor([0.5618, 0.3861, 0.8515, 0.1183, 0.9183, 0.7349, 0.0982, 0.0455, 0.0555,\n",
      "        0.0807, 0.6446, 0.5581, 0.1978, 0.4457, 0.9093, 0.5321, 0.5448, 0.5640,\n",
      "        0.5490, 0.7115, 0.6660, 0.0944, 0.4035, 0.2423, 0.3638, 0.3016, 0.5366,\n",
      "        0.2898, 0.9129, 0.4814, 0.2521, 0.6466, 0.3967, 0.1423, 0.8526, 0.1769,\n",
      "        0.4305, 0.4506, 0.9379, 0.7638, 0.2633, 0.0910, 0.9996, 0.9919, 0.0232,\n",
      "        0.0901, 0.6714, 0.0820, 0.5649, 0.7994, 0.6237, 0.6733, 0.0570, 0.2776,\n",
      "        0.9181, 0.5463, 0.3901, 0.3984, 0.7903, 0.5502, 0.3539, 0.1279, 0.7333,\n",
      "        0.0203, 0.8996, 0.1509, 0.7543, 0.1862, 0.2521, 0.5962, 0.6618, 0.6019,\n",
      "        0.5511, 0.4661, 0.1598, 0.9853, 0.0983, 0.9782, 0.0432, 0.9072, 0.9164,\n",
      "        0.2276, 0.8789, 0.1266, 0.5264, 0.9523, 0.8668, 0.1303, 0.8322, 0.8772])\n",
      "Reshape to 10xwhatever:\n",
      " tensor([[0.5618, 0.3861, 0.8515, 0.1183, 0.9183, 0.7349, 0.0982, 0.0455, 0.0555],\n",
      "        [0.0807, 0.6446, 0.5581, 0.1978, 0.4457, 0.9093, 0.5321, 0.5448, 0.5640],\n",
      "        [0.5490, 0.7115, 0.6660, 0.0944, 0.4035, 0.2423, 0.3638, 0.3016, 0.5366],\n",
      "        [0.2898, 0.9129, 0.4814, 0.2521, 0.6466, 0.3967, 0.1423, 0.8526, 0.1769],\n",
      "        [0.4305, 0.4506, 0.9379, 0.7638, 0.2633, 0.0910, 0.9996, 0.9919, 0.0232],\n",
      "        [0.0901, 0.6714, 0.0820, 0.5649, 0.7994, 0.6237, 0.6733, 0.0570, 0.2776],\n",
      "        [0.9181, 0.5463, 0.3901, 0.3984, 0.7903, 0.5502, 0.3539, 0.1279, 0.7333],\n",
      "        [0.0203, 0.8996, 0.1509, 0.7543, 0.1862, 0.2521, 0.5962, 0.6618, 0.6019],\n",
      "        [0.5511, 0.4661, 0.1598, 0.9853, 0.0983, 0.9782, 0.0432, 0.9072, 0.9164],\n",
      "        [0.2276, 0.8789, 0.1266, 0.5264, 0.9523, 0.8668, 0.1303, 0.8322, 0.8772]])\n"
     ]
    }
   ],
   "source": [
    "# Let us reshape our Tensor to a 2D Tensor\n",
    "print(\"Reshape to 3x30:\\n\", tensor.reshape(3, 30))\n",
    "\n",
    "# We can also use the Flatten method to convert to a 1D Tensor\n",
    "print(\"Flatten to a 1D Tensor:\\n\",tensor.flatten())\n",
    "\n",
    "# Here the -1 tells Pytorch to put as many elements as it needs here in order to maintain the given dimention sizes\n",
    "# AKA \"I don't care the size of this dimention as long as the first one is 10\"\n",
    "print(\"Reshape to 10xwhatever:\\n\",tensor.reshape(10, -1))"
   ]
  },
  {
   "cell_type": "markdown",
   "metadata": {},
   "source": [
    "<h4>Squeezing and Unsqueezing </h4>\n",
    "A very common shape-changing operation is to add an \"empty\" dimension to ensure the shape (specifically the number of dimensions) of the tensor is correct for certain functions. <br>\n",
    "For example, when we start using Pytorch Neural Network modules, we need to provide the input of the network with a \"batch\" dimension (we often pass multiple inputs to our network at once) even if we only pass 1 datapoint!"
   ]
  },
  {
   "cell_type": "code",
   "execution_count": 13,
   "metadata": {},
   "outputs": [
    {
     "name": "stdout",
     "output_type": "stream",
     "text": [
      "The Tensors shape is: torch.Size([3, 2])\n",
      "Add an empty dimenson to dim3: torch.Size([3, 2, 1])\n",
      "Add an empty dimenson to dim2: torch.Size([3, 1, 2])\n"
     ]
    }
   ],
   "source": [
    "# Lets create a 2D Tensor\n",
    "tensor = torch.rand(3, 2)\n",
    "\n",
    "# View the Number of elements in every dimension\n",
    "print(\"The Tensors shape is:\", tensor.shape)\n",
    "\n",
    "# unsqueeze adds an \"empty\" dimension to our Tensor\n",
    "print(\"Add an empty dimenson to dim3:\", tensor.unsqueeze(2).shape)\n",
    "\n",
    "# unsqueeze adds an \"empty\" dimension to our Tensor\n",
    "print(\"Add an empty dimenson to dim2:\", tensor.unsqueeze(1).shape)"
   ]
  },
  {
   "cell_type": "code",
   "execution_count": 14,
   "metadata": {},
   "outputs": [
    {
     "name": "stdout",
     "output_type": "stream",
     "text": [
      "The Tensors shape is: torch.Size([1, 3, 1, 2])\n",
      "Remove empty dimenson dim3: torch.Size([1, 3, 2])\n",
      "Remove empty dimenson dim0: torch.Size([3, 1, 2])\n",
      "Remove all empty dimensons: torch.Size([3, 2])\n"
     ]
    }
   ],
   "source": [
    "# Lets create a 4D Tensor with a few \"empty\" dimensions\n",
    "tensor = torch.rand(1, 3, 1, 2)\n",
    "\n",
    "# View the Number of elements in every dimension\n",
    "print(\"The Tensors shape is:\", tensor.shape)\n",
    "\n",
    "# squeeze removes an \"empty\" dimension from our Tensor\n",
    "print(\"Remove empty dimenson dim3:\", tensor.squeeze(2).shape)\n",
    "\n",
    "# squeeze removes an \"empty\" dimension from our Tensor\n",
    "print(\"Remove empty dimenson dim0:\", tensor.squeeze(0).shape)\n",
    "\n",
    "# If we don't specify a dimension, squeeze will remove ALL empty dimensions\n",
    "print(\"Remove all empty dimensons:\", tensor.squeeze().shape)"
   ]
  },
  {
   "cell_type": "markdown",
   "metadata": {},
   "source": [
    "<h2> Broadcasting </h2>\n",
    "Broadcasting also works in Pytorch!"
   ]
  },
  {
   "cell_type": "code",
   "execution_count": null,
   "metadata": {},
   "outputs": [],
   "source": []
  },
  {
   "cell_type": "code",
   "execution_count": 19,
   "metadata": {},
   "outputs": [
    {
     "name": "stdout",
     "output_type": "stream",
     "text": [
      "Tensor 1 shape:\n",
      " torch.Size([1, 4, 3, 1])\n",
      "Tensor 2 shape:\n",
      " torch.Size([3, 4, 1, 4])\n",
      "The resulting shape is:\n",
      " torch.Size([3, 4, 3, 4])\n",
      "tensor([[1.],\n",
      "        [3.]])\n",
      "tensor([[2., 4.]])\n",
      "tensor([[3., 5.],\n",
      "        [5., 7.]])\n"
     ]
    }
   ],
   "source": [
    "# Lets create 2 differently shaped 4D Tensors (Matrices)\n",
    "tensor1 = torch.rand(1, 4, 3, 1)\n",
    "tensor2 = torch.rand(3, 4, 1, 4)\n",
    "\n",
    "print(\"Tensor 1 shape:\\n\", tensor1.shape)\n",
    "print(\"Tensor 2 shape:\\n\", tensor2.shape)\n",
    "\n",
    "tensor3 = tensor1 + tensor2\n",
    "\n",
    "print(\"The resulting shape is:\\n\", tensor3.shape)"
   ]
  },
  {
   "cell_type": "markdown",
   "metadata": {},
   "source": [
    "<h2> Creating a basic Classifier </h2>\n",
    "Lets create some random data and see if we can create a simple linear classifier!"
   ]
  },
  {
   "cell_type": "code",
   "execution_count": 20,
   "metadata": {},
   "outputs": [],
   "source": [
    "num_data_points = 1000\n",
    "\n",
    "# Define the mean and covariance for two random data distributions \n",
    "class_1_cov = torch.FloatTensor([[1.3, 0.25], [0.25, 1.4]])\n",
    "class_1_mu = torch.FloatTensor([[1, 2]])\n",
    "class_1_data = torch.randn(num_data_points, 2)\n",
    "class_1_data = torch.mm(class_1_data, class_1_cov) + class_1_mu\n",
    "class_1_data = torch.cat((class_1_data, torch.ones(num_data_points, 1)), 1)\n",
    "\n",
    "class_2_cov = torch.FloatTensor([[2, -0.5], [-0.5, 1]])\n",
    "class_2_mu = torch.FloatTensor([[-2, -3]])\n",
    "class_2_data = torch.randn(num_data_points, 2)\n",
    "class_2_data = torch.mm(class_2_data, class_2_cov) + class_2_mu\n",
    "class_2_data = torch.cat((class_2_data, torch.ones(num_data_points, 1)), 1)\n",
    "\n",
    "# Create some binary labels for each class\n",
    "class_1_labels = torch.zeros(num_data_points, 1)\n",
    "class_2_labels = torch.ones(num_data_points, 1)\n",
    "\n",
    "# Stack all the data and labels together\n",
    "all_data = torch.cat((class_1_data, class_2_data), 0)\n",
    "all_labels = torch.cat((class_1_labels, class_2_labels), 0)"
   ]
  },
  {
   "cell_type": "code",
   "execution_count": 21,
   "metadata": {},
   "outputs": [
    {
     "data": {
      "text/plain": [
       "<matplotlib.collections.PathCollection at 0x2ea0a14ab50>"
      ]
     },
     "execution_count": 21,
     "metadata": {},
     "output_type": "execute_result"
    },
    {
     "data": {
      "image/png": "[encoded data removed]",
      "text/plain": [
       "<Figure size 640x480 with 1 Axes>"
      ]
     },
     "metadata": {},
     "output_type": "display_data"
    }
   ],
   "source": [
    "# Lets have a look at the two data distributions, are they going to be linearly separable?\n",
    "plt.scatter(class_1_data[:, 0], class_1_data[:, 1])\n",
    "plt.scatter(class_2_data[:, 0], class_2_data[:, 1])"
   ]
  },
  {
   "cell_type": "code",
   "execution_count": 22,
   "metadata": {},
   "outputs": [],
   "source": [
    "# We can easily solve this linear system\n",
    "theta = torch.matmul(torch.linalg.pinv(all_data), all_labels)"
   ]
  },
  {
   "cell_type": "code",
   "execution_count": 23,
   "metadata": {},
   "outputs": [],
   "source": [
    "# Use the calculated parameters (theta) to make a prediction\n",
    "prediction = (torch.matmul(all_data, theta) >= 0.5).type(torch.long)"
   ]
  },
  {
   "cell_type": "code",
   "execution_count": 24,
   "metadata": {},
   "outputs": [
    {
     "name": "stdout",
     "output_type": "stream",
     "text": [
      "Classifier Accuracy is 97.90%\n"
     ]
    }
   ],
   "source": [
    "# Calculate the accuracy of the predictions\n",
    "accuracy = (prediction == all_labels).sum()/len(prediction)\n",
    "print(\"Classifier Accuracy is %.2f%%\" % (100 * accuracy.item()))"
   ]
  },
  {
   "cell_type": "markdown",
   "metadata": {},
   "source": []
  }
 ],
 "metadata": {
  "kernelspec": {
   "display_name": "Python 3 (ipykernel)",
   "language": "python",
   "name": "python3"
  },
  "language_info": {
   "codemirror_mode": {
    "name": "ipython",
    "version": 3
   },
   "file_extension": ".py",
   "mimetype": "text/x-python",
   "name": "python",
   "nbconvert_exporter": "python",
   "pygments_lexer": "ipython3",
   "version": "3.9.17"
  }
 },
 "nbformat": 4,
 "nbformat_minor": 4
}
