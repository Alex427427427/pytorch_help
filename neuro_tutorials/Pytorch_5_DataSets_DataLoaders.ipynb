{
 "cells": [
  {
   "cell_type": "markdown",
   "metadata": {},
   "source": [
    "![alt text](https://upload.wikimedia.org/wikipedia/commons/thumb/9/96/Pytorch_logo.png/800px-Pytorch_logo.png)"
   ]
  },
  {
   "cell_type": "code",
   "execution_count": 15,
   "metadata": {},
   "outputs": [],
   "source": [
    "import torch\n",
    "import torchvision\n",
    "import torch.nn as nn\n",
    "from torch.utils.data import DataLoader\n",
    "from torch.utils.data.dataset import Dataset\n",
    "\n",
    "import time\n",
    "import numpy as np\n",
    "import matplotlib.pyplot as plt"
   ]
  },
  {
   "cell_type": "code",
   "execution_count": 16,
   "metadata": {},
   "outputs": [],
   "source": [
    "class TwoClassData(Dataset):\n",
    "    def __init__(self, num_datapoints):\n",
    "        # Define the mean and covariance for two random data distributions \n",
    "        class_1_cov = torch.FloatTensor([[1.0, 0.25], [0.25, 1.4]])\n",
    "        class_1_mu = torch.FloatTensor([[1, -1.5]])\n",
    "        \n",
    "        class_2_cov = torch.FloatTensor([[2, -0.5], [-0.5, 1]])\n",
    "        class_2_mu = torch.FloatTensor([[-2, -3]])\n",
    "        \n",
    "        # Randomly Create the two data distributions\n",
    "        class_1_data = torch.randn(num_datapoints, 2)\n",
    "        class_1_data = torch.mm(class_1_data, class_1_cov) + class_1_mu\n",
    "\n",
    "        class_2_data = torch.randn(num_datapoints, 2)\n",
    "        class_2_data = torch.mm(class_2_data, class_2_cov) + class_2_mu\n",
    "\n",
    "        class_1_labels = torch.zeros(num_datapoints, 1)\n",
    "        class_2_labels = torch.ones(num_datapoints, 1)\n",
    "\n",
    "        self.data = torch.cat((class_1_data, class_2_data), 0)\n",
    "        self.labels = torch.cat((class_1_labels, class_2_labels), 0)\n",
    "        \n",
    "        self.num_datapoints = num_datapoints\n",
    "\n",
    "    def __getitem__(self, index):\n",
    "        # This function is called by the dataLOADER class whenever it wants a new mini-batch\n",
    "        # The dataLOADER class will pass the dataSET and number of datapoint indexes (mini-batch of indexes)\n",
    "        # It is up to the dataSET's __getitem__ function to output the corresponding input datapoints \n",
    "        # AND the corresponding labels\n",
    "        # It is important to know that the input \"index\" is a single Python int, therefore the\n",
    "        # output of __getitem__ is a SINGLE datapoint with NO \"batch dimension\"\n",
    "        \n",
    "        return self.data[index], self.labels[index]\n",
    "        # Note:Pytorch will actually pass the __getitem__ function one index at a time\n",
    "        # If you use multiple dataLOADER \"workers\" multiple __getitem__ calls will be made in parallel\n",
    "        # (Pytorch will spawn multiple processes - usually not necessary for simple datasets, it is 0 by default)\n",
    "        # WARNING having workers > 0 on Window OS is buggy, so if you're using Windows and your dataLOADER gets \n",
    "        # stuck, make sure workers=0\n",
    "\n",
    "    def __len__(self):\n",
    "        # We also need to specify a \"length\" function, Python will use this fuction whenever\n",
    "        # You use the Python len(function) on the dataset\n",
    "        # We need to define it so the dataLOADER knows how big the dataSET is!\n",
    "        return 2 * self.num_datapoints"
   ]
  },
  {
   "cell_type": "code",
   "execution_count": 17,
   "metadata": {},
   "outputs": [],
   "source": [
    "num_training_data = 1000\n",
    "num_validation_data = 500\n",
    "num_test_data = 200\n",
    "\n",
    "batch_size = 200\n",
    "\n",
    "#Create an instance of TwoClassData for the training and validation and test set\n",
    "dataset_train = TwoClassData(num_training_data)\n",
    "dataset_val = TwoClassData(num_validation_data)\n",
    "dataset_test  = TwoClassData(num_test_data)\n",
    "\n",
    "#Now we need to pass the dataSET to the Pytorch dataLOADER class along with some other arguments\n",
    "#batch_size - the size of our mini-batches\n",
    "#shuffle - whether or not we want to shuffle the dataset\n",
    "data_loader_train = DataLoader(dataset=dataset_train, batch_size=batch_size, shuffle=True)\n",
    "data_loader_val = DataLoader(dataset=dataset_val, batch_size=batch_size, shuffle=False)\n",
    "data_loader_test = DataLoader(dataset=dataset_test, batch_size=batch_size, shuffle=False)"
   ]
  },
  {
   "cell_type": "markdown",
   "metadata": {},
   "source": [
    "The DataSET class is used by the DataLOADER to interface with the dataset, once we pass it to the DataLoader we rarely need to interact with it directly."
   ]
  },
  {
   "cell_type": "code",
   "execution_count": 18,
   "metadata": {},
   "outputs": [
    {
     "name": "stdout",
     "output_type": "stream",
     "text": [
      "Train DataSET size: 2000\n",
      "Val DataSET size: 1000\n",
      "Test DataSET size: 400\n"
     ]
    }
   ],
   "source": [
    "# The length of the dataset with be whatever we returned in the __len__ method\n",
    "print(\"Train DataSET size:\", len(dataset_train))\n",
    "print(\"Val DataSET size:\", len(dataset_val))\n",
    "print(\"Test DataSET size:\", len(dataset_test))"
   ]
  },
  {
   "cell_type": "code",
   "execution_count": 19,
   "metadata": {},
   "outputs": [
    {
     "name": "stdout",
     "output_type": "stream",
     "text": [
      "Train DataLOADER size: 10\n",
      "Val DataLOADER size: 5\n",
      "Test DataLOADER size: 2\n"
     ]
    }
   ],
   "source": [
    "# The length of the dataLOADER is the length of the dataSET divided by the batchsize!\n",
    "# AKA it's the number of loops you need to do per epoch.\n",
    "# If the length of the dataSET is not perfectly divisible by the batch size the DataLOADER will simply return the \n",
    "# \"leftovers\" in the last iteration, so the batch size of the last iteration might not equal the batch size!!\n",
    "# If you wish to simply skip this \"uneven\" batch you can set the flag \"drop_last\" to True \n",
    "# when creating the DataLOADER\n",
    "print(\"Train DataLOADER size:\", len(data_loader_train))\n",
    "print(\"Val DataLOADER size:\", len(data_loader_val))\n",
    "print(\"Test DataLOADER size:\", len(data_loader_test))\n",
    "# Note: A larger batch size means less noisy gradients, but fewer gradient steps per epoch!"
   ]
  },
  {
   "cell_type": "code",
   "execution_count": 20,
   "metadata": {},
   "outputs": [
    {
     "ename": "AttributeError",
     "evalue": "'_SingleProcessDataLoaderIter' object has no attribute 'next'",
     "output_type": "error",
     "traceback": [
      "\u001b[1;31m---------------------------------------------------------------------------\u001b[0m",
      "\u001b[1;31mAttributeError\u001b[0m                            Traceback (most recent call last)",
      "Cell \u001b[1;32mIn[20], line 4\u001b[0m\n\u001b[0;32m      1\u001b[0m \u001b[38;5;66;03m# The DataLOADER will loop through a batch of indices and provide them to the dataSET one at a time\u001b[39;00m\n\u001b[0;32m      2\u001b[0m \u001b[38;5;66;03m# and will \"batch\" together all the datapoints along the \"batch dimension\" (dim 0) returning a single tensor\u001b[39;00m\n\u001b[0;32m      3\u001b[0m train_data_iter \u001b[38;5;241m=\u001b[39m \u001b[38;5;28miter\u001b[39m(data_loader_train)\n\u001b[1;32m----> 4\u001b[0m data, labels \u001b[38;5;241m=\u001b[39m \u001b[43mtrain_data_iter\u001b[49m\u001b[38;5;241;43m.\u001b[39;49m\u001b[43mnext\u001b[49m()\n\u001b[0;32m      5\u001b[0m \u001b[38;5;28mprint\u001b[39m(\u001b[38;5;124m\"\u001b[39m\u001b[38;5;124mInput Data shape\u001b[39m\u001b[38;5;124m\"\u001b[39m, data\u001b[38;5;241m.\u001b[39mshape)\n\u001b[0;32m      6\u001b[0m \u001b[38;5;28mprint\u001b[39m(\u001b[38;5;124m\"\u001b[39m\u001b[38;5;124mTarget Data shape\u001b[39m\u001b[38;5;124m\"\u001b[39m, labels\u001b[38;5;241m.\u001b[39mshape)\n",
      "\u001b[1;31mAttributeError\u001b[0m: '_SingleProcessDataLoaderIter' object has no attribute 'next'"
     ]
    }
   ],
   "source": [
    "# The DataLOADER will loop through a batch of indices and provide them to the dataSET one at a time\n",
    "# and will \"batch\" together all the datapoints along the \"batch dimension\" (dim 0) returning a single tensor\n",
    "train_data_iter = iter(data_loader_train)\n",
    "data, labels = train_data_iter.next()\n",
    "print(\"Input Data shape\", data.shape)\n",
    "print(\"Target Data shape\", labels.shape)"
   ]
  },
  {
   "cell_type": "code",
   "execution_count": 21,
   "metadata": {},
   "outputs": [],
   "source": [
    "# These functions/methods do not change from before!\n",
    "def training_step(data_batch, target_batch, model, optimizer, loss_func):\n",
    "    target_pred = model(data_batch)\n",
    "    loss = loss_func(target_pred, target_batch)\n",
    "    \n",
    "    optimizer.zero_grad()\n",
    "    loss.backward()\n",
    "    optimizer.step()\n",
    "    \n",
    "    return loss.item()\n",
    "\n",
    "def eval_step(data_batch, target_batch, model):\n",
    "    with torch.no_grad():\n",
    "        target_pred = model(data_batch)\n",
    "        predictions = (target_pred >= 0)\n",
    "\n",
    "        num_correct = (predictions == target_batch).sum()\n",
    "        \n",
    "        return num_correct.item()"
   ]
  },
  {
   "cell_type": "code",
   "execution_count": 22,
   "metadata": {},
   "outputs": [],
   "source": [
    "# These ones do!\n",
    "\n",
    "# Function to calulate the accuracy of our model for the given data and labels!\n",
    "def eval_loop(eval_dataloader, model):\n",
    "    total_correct = 0\n",
    "\n",
    "    # All we need to do now is loop over the data loader! Much nicer! \n",
    "    for data, target in eval_dataloader:\n",
    "        num_correct = eval_step(data, target, model)\n",
    "        total_correct += num_correct\n",
    "        \n",
    "    return total_correct/len(eval_dataloader.dataset)\n",
    "\n",
    "\n",
    "# Function to perform our training loop\n",
    "def training_loop(train_dataloader, val_dataloader, model, optimizer, loss_func, num_epochs):\n",
    "    \n",
    "    loss_logger = []\n",
    "    val_accuracy_logger = []\n",
    "    train_accuracy_logger = []\n",
    "\n",
    "    # A single loop over the whole dataset is called an \"epoch\"\n",
    "    for epoch in range(num_epochs):\n",
    "        val_acc = eval_loop(val_dataloader, model)\n",
    "        val_accuracy_logger.append(val_acc)\n",
    "        \n",
    "        train_acc = eval_loop(train_dataloader, model)\n",
    "        train_accuracy_logger.append(train_acc)\n",
    "        \n",
    "        # All we need to do now is loop over the data loader! Much nicer! \n",
    "        for data, target in train_dataloader:\n",
    "            # Loop over the mini batches and perform a step of gradient decent every time!\n",
    "            loss = training_step(data, target, model, optimizer, loss_func)\n",
    "            loss_logger.append(loss)\n",
    "        \n",
    "    return loss_logger, train_accuracy_logger, val_accuracy_logger"
   ]
  },
  {
   "cell_type": "code",
   "execution_count": null,
   "metadata": {},
   "outputs": [],
   "source": [
    "linear = nn.Linear(2, 1) \n",
    "loss_function = nn.BCEWithLogitsLoss()\n",
    "optimizer = torch.optim.SGD(linear.parameters(), lr=0.001) \n",
    "num_epochs = 400"
   ]
  },
  {
   "cell_type": "code",
   "execution_count": null,
   "metadata": {},
   "outputs": [],
   "source": [
    "start_time = time.time()\n",
    "loss_logger, train_acc, val_acc = training_loop(data_loader_train, data_loader_val, linear, optimizer, \n",
    "                                                loss_function, num_epochs=num_epochs)\n",
    "\n",
    "print(\"Traing for %d epochs with a batch size of %d took %.2f seconds\" % \n",
    "      (num_epochs, batch_size, time.time() - start_time))"
   ]
  },
  {
   "cell_type": "code",
   "execution_count": null,
   "metadata": {},
   "outputs": [],
   "source": [
    "plt.plot(loss_logger)\n",
    "_ = plt.title(\"Training Loss\")"
   ]
  },
  {
   "cell_type": "code",
   "execution_count": null,
   "metadata": {},
   "outputs": [],
   "source": [
    "plt.plot(train_acc)\n",
    "plt.plot(val_acc)\n",
    "_ = plt.title(\"Training and Validation Accuracy\")\n",
    "plt.legend([\"Train\", \"Validation\"])"
   ]
  },
  {
   "cell_type": "code",
   "execution_count": null,
   "metadata": {},
   "outputs": [],
   "source": [
    "test_accuracy = eval_loop(data_loader_test, linear)\n",
    "print(\"Test Accuracy is %.2f%%\" % (100 * test_accuracy))"
   ]
  },
  {
   "cell_type": "code",
   "execution_count": null,
   "metadata": {},
   "outputs": [],
   "source": []
  }
 ],
 "metadata": {
  "kernelspec": {
   "display_name": "Python 3 (ipykernel)",
   "language": "python",
   "name": "python3"
  },
  "language_info": {
   "codemirror_mode": {
    "name": "ipython",
    "version": 3
   },
   "file_extension": ".py",
   "mimetype": "text/x-python",
   "name": "python",
   "nbconvert_exporter": "python",
   "pygments_lexer": "ipython3",
   "version": "3.9.17"
  }
 },
 "nbformat": 4,
 "nbformat_minor": 4
}
